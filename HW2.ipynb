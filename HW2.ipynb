{
 "cells": [
  {
   "cell_type": "markdown",
   "id": "e14aa6e6",
   "metadata": {},
   "source": [
    "# Question 1"
   ]
  },
  {
   "cell_type": "markdown",
   "id": "89bbd742",
   "metadata": {},
   "source": [
    "# Part 1"
   ]
  },
  {
   "cell_type": "code",
   "execution_count": 1,
   "id": "d22c7d79",
   "metadata": {},
   "outputs": [],
   "source": [
    "import requests\n",
    "from bs4 import BeautifulSoup\n",
    "import urllib.request"
   ]
  },
  {
   "cell_type": "markdown",
   "id": "835181c7",
   "metadata": {},
   "source": [
    "Get the webpage for the press release"
   ]
  },
  {
   "cell_type": "code",
   "execution_count": 2,
   "id": "97b35467",
   "metadata": {},
   "outputs": [
    {
     "data": {
      "text/plain": [
       "'https://press.un.org/en/content/press-release'"
      ]
     },
     "execution_count": 2,
     "metadata": {},
     "output_type": "execute_result"
    }
   ],
   "source": [
    "url = 'https://press.un.org/en'\n",
    "\n",
    "response = urllib.request.urlopen(url)\n",
    "soup_seed = BeautifulSoup(response, 'html.parser')\n",
    "\n",
    "press_page_url=''\n",
    "for page in soup_seed.find_all('div',{\"class\":\"more-link\"}):\n",
    "    if page.text=='Latest Press Releases':\n",
    "        press_page_url = page.find('a').get('href')\n",
    "press_page_url"
   ]
  },
  {
   "cell_type": "markdown",
   "id": "8cd8810f",
   "metadata": {},
   "source": [
    "Get press release links in for the first page"
   ]
  },
  {
   "cell_type": "code",
   "execution_count": 3,
   "id": "23649fab",
   "metadata": {},
   "outputs": [
    {
     "data": {
      "text/plain": [
       "['https://press.un.org/en/2023/sgsm21980.doc.htm',\n",
       " 'https://press.un.org/en/2023/sgsm21975.doc.htm',\n",
       " 'https://press.un.org/en/2023/sgsm21979.doc.htm',\n",
       " 'https://press.un.org/en/2023/sgsm21978.doc.htm',\n",
       " 'https://press.un.org/en/2023/sga2232.doc.htm',\n",
       " 'https://press.un.org/en/2023/sgsm21977.doc.htm',\n",
       " 'https://press.un.org/en/2023/sgsm21976.doc.htm',\n",
       " 'https://press.un.org/en/2023/sc15433.doc.htm',\n",
       " 'https://press.un.org/en/2023/sgsm21974.doc.htm',\n",
       " 'https://press.un.org/en/2023/sg2264.doc.htm']"
      ]
     },
     "execution_count": 3,
     "metadata": {},
     "output_type": "execute_result"
    }
   ],
   "source": [
    "response = urllib.request.urlopen(press_page_url)\n",
    "soup_first = BeautifulSoup(response, 'html.parser')\n",
    "\n",
    "links = []\n",
    "for page in soup_first.find('div',{\"class\":\"view-content\"}).find_all('a'):\n",
    "    links.append(page.get('href'))\n",
    "\n",
    "links = ['https://press.un.org' + link for link in links]\n",
    "links"
   ]
  },
  {
   "cell_type": "markdown",
   "id": "d873355b",
   "metadata": {},
   "source": [
    "Check if the article is a press release and if \"crisis\" is in the press release."
   ]
  },
  {
   "cell_type": "markdown",
   "id": "ef014295",
   "metadata": {},
   "source": [
    "If the first page has less than 10 articles that are press release and have 'crisis', we proceed to the next page"
   ]
  },
  {
   "cell_type": "code",
   "execution_count": 4,
   "id": "805c7d29",
   "metadata": {},
   "outputs": [
    {
     "name": "stdout",
     "output_type": "stream",
     "text": [
      "No.1\n",
      "Press Release Link: https://press.un.org/en/2023/sgsm21980.doc.htm\n",
      "\n",
      "Title: ‘Outrageous a Person Dies of Hunger Every Few Seconds’, Secretary-General Declares in Message on World Food Day, Calls for Crisis to Be Top of Global Agenda\n",
      "\n",
      "Following is UN Secretary-General António Guterres’ message on World Food Day, observed 16 October:World Food Day 2023 comes during a global food crisis, with the world moving backwards on ending hunger and malnutrition.Some 780 million people around the world are going hungry; almost 50 million children are at risk of death from severe wasting.  Yet, funding for this year’s global humanitarian appeal stands at just 32 per cent.In our world of plenty, it is outrageous that a person dies of hunger every few seconds, while the World Food Programme (WFP) has been forced to cut its essential aid programmes.In 2015, after years of progress, Governments set the goal of zero hunger by 2030.  But, eight years later, the number of people suffering from hunger has increased significantly.This crisis demands action — first and foremost from national Governments, which have a responsibility to make sure their people have enough to eat.  But, many Governments lack the resources to do so, and so effective international solidarity is also essential.The long-term causes of the global food crisis include conflicts, climate extremes, inequality and economic instability.  The UN system is addressing these root causes through our support for sustainable, equitable food systems that put people over profits.That means massively scaling up investments in resilient agriculture and aligning them with climate action.  It means leveraging science and technology to improve the efficiency and reach of food systems.This year’s theme for World Food Day focuses on water — a necessity for nutritious and healthy food.  The sustainable management of water for agriculture and food production is essential to end hunger, achieve the SDGs [Sustainable Development Goals] and preserve water for future generations.Zero hunger is achievable.  This World Food Day, I call on Governments, the private sector, civil society and academia to work together; to prioritize feeding the hungry; to bring ending this crisis to the top of the global agenda; and to invest in long-term solutions that provide everyone with enough to eat.\n",
      "\n",
      "No.2\n",
      "Press Release Link: https://press.un.org/en/2023/sgsm21978.doc.htm\n",
      "\n",
      "Title: Marking International Day, Secretary-General Stresses ‘In Our World of Plenty, Poverty Should Have No Home’, Calls for Renewed Commitment to Achieve SDGs\n",
      "\n",
      "Following is UN Secretary-General António Guterres’ message for the International Day for the Eradication of Poverty, observed on 17 October:In our world of plenty, poverty should have no home.  Yet, as we mark the International Day for the Eradication of Poverty, nearly 700 million people are barely scraping by, living on less than $2.15 per day.Over a billion people are deprived of basic needs like food, water, health care and education.  Billions more lack sanitation and access to energy, jobs, housing and social safety nets.  Meanwhile, conflicts, the climate crisis, discrimination and exclusion — particularly against women and girls — are deepening the distress.This is compounded by an outdated, dysfunctional and unfair global financial system that hinders developing countries from investing in alleviating poverty and achieving the SDGs.  At current rates, almost 500 million people will still be living in extreme poverty in 2030.This is unacceptable.At the SDG Summit in September, world leaders recognized the need to reform the international financial architecture and committed to a bold plan to rescue the Sustainable Development Goals and accelerate efforts to eradicate poverty everywhere.  This includes support for an SDG Stimulus of at least $500 billion per year in financing for investments to achieve this.Leaders also agreed on targeted action aimed at alleviating poverty and suffering for all people — from transformed food and education systems to decent jobs and expanded social protection, as this year’s theme highlights.Ending poverty is the challenge of our time.  But it is a challenge we can win.  On this important day, let’s renew our commitment to a world free of poverty.\n",
      "\n",
      "No.3\n",
      "Press Release Link: https://press.un.org/en/2023/sgsm21967.doc.htm\n",
      "\n",
      "Title: Stressing ‘1.5°C Limit Is Possible’, Secretary-General Urges International Climate and Energy Summit to Expedite Fossil-Fuel Phase-Out, Net-Zero Timelines \n",
      "\n",
      "Following is the text of UN Secretary-General António Guterres’ video message to the International Climate and Energy Summit, in Madrid today:I am pleased to join you for this International Climate and Energy Summit.  And I thank the Government of Spain and the International Energy Agency for bringing us together.You meet in Madrid to strengthen the coalition to respond to a defining challenge of our times:  Saving the 1.5°C limit, by cleaning up global energy.  Time is short, but it is possible.  The International Energy Agency’s new Net Zero Roadmap shows us that.  But we need action now.First, action at COP28 [twenty-eighth Conference of the Parties to the United Nations Framework Convention on Climate Change].  I urge you to work together, in Madrid, and in the United Arab Emirates, to secure a strong outcome in response to the Global Stocktake.  That must include commitments to double energy efficiency, triple renewables capacity, cut methane from the energy sector by 75 per cent, and ensure universal access to energy — all by 2030.These efforts must be accompanied by a collective commitment to accelerate a fair and just phase-out of fossil fuels, as we bring clean power to all.  One without the other equals failure.Second, action from Governments.  I have proposed an Acceleration Agenda.  This calls on Governments to speed up net-zero timelines — so that developed countries get there as close as possible to 2040 and emerging economies as close as possible to 2050.  And it urges all Governments to put in place credible actions, policies and plans that are compatible with a 1.5°C world, and for developed countries to deliver climate justice to those on the front lines of the crisis.That includes, amongst other measures, putting a stop to new coal and phasing out existing coal; shifting subsidies from fossil fuels to renewables — subsidies the International Monetary Fund (IMF) estimates reached $7 trillion last year; and ending new oil and gas licensing.Developed countries must honour the $100 billion commitment, and replenish the Green Climate Fund.  And we must push the multilateral development banks to adapt their business models to leverage far more private finance at reasonable cost to developing countries so they can reduce emissions and adapt.Third, we need action from business.  The Acceleration Agenda calls on companies — including fossil fuel companies — to create credible transition plans across the entire value chain.  All this is eminently achievable.The Climate Ambition Summit I hosted in New York last month indicated a collective way forward.  And it showed that action to meet the 1.5°C limit is not a dream.  It is practical and it is possible.  We know what needs to be done.  Let’s do it.\n",
      "\n",
      "No.4\n",
      "Press Release Link: https://press.un.org/en/2023/sgsm21967.doc.htm\n",
      "\n",
      "Title: Stressing ‘1.5°C Limit Is Possible’, Secretary-General Urges International Climate and Energy Summit to Expedite Fossil-Fuel Phase-Out, Net-Zero Timelines \n",
      "\n",
      "Following is the text of UN Secretary-General António Guterres’ video message to the International Climate and Energy Summit, in Madrid today:I am pleased to join you for this International Climate and Energy Summit.  And I thank the Government of Spain and the International Energy Agency for bringing us together.You meet in Madrid to strengthen the coalition to respond to a defining challenge of our times:  Saving the 1.5°C limit, by cleaning up global energy.  Time is short, but it is possible.  The International Energy Agency’s new Net Zero Roadmap shows us that.  But we need action now.First, action at COP28 [twenty-eighth Conference of the Parties to the United Nations Framework Convention on Climate Change].  I urge you to work together, in Madrid, and in the United Arab Emirates, to secure a strong outcome in response to the Global Stocktake.  That must include commitments to double energy efficiency, triple renewables capacity, cut methane from the energy sector by 75 per cent, and ensure universal access to energy — all by 2030.These efforts must be accompanied by a collective commitment to accelerate a fair and just phase-out of fossil fuels, as we bring clean power to all.  One without the other equals failure.Second, action from Governments.  I have proposed an Acceleration Agenda.  This calls on Governments to speed up net-zero timelines — so that developed countries get there as close as possible to 2040 and emerging economies as close as possible to 2050.  And it urges all Governments to put in place credible actions, policies and plans that are compatible with a 1.5°C world, and for developed countries to deliver climate justice to those on the front lines of the crisis.That includes, amongst other measures, putting a stop to new coal and phasing out existing coal; shifting subsidies from fossil fuels to renewables — subsidies the International Monetary Fund (IMF) estimates reached $7 trillion last year; and ending new oil and gas licensing.Developed countries must honour the $100 billion commitment, and replenish the Green Climate Fund.  And we must push the multilateral development banks to adapt their business models to leverage far more private finance at reasonable cost to developing countries so they can reduce emissions and adapt.Third, we need action from business.  The Acceleration Agenda calls on companies — including fossil fuel companies — to create credible transition plans across the entire value chain.  All this is eminently achievable.The Climate Ambition Summit I hosted in New York last month indicated a collective way forward.  And it showed that action to meet the 1.5°C limit is not a dream.  It is practical and it is possible.  We know what needs to be done.  Let’s do it.\n",
      "\n"
     ]
    },
    {
     "name": "stdout",
     "output_type": "stream",
     "text": [
      "No.5\n",
      "Press Release Link: https://press.un.org/en/2023/sgsm21967.doc.htm\n",
      "\n",
      "Title: Stressing ‘1.5°C Limit Is Possible’, Secretary-General Urges International Climate and Energy Summit to Expedite Fossil-Fuel Phase-Out, Net-Zero Timelines \n",
      "\n",
      "Following is the text of UN Secretary-General António Guterres’ video message to the International Climate and Energy Summit, in Madrid today:I am pleased to join you for this International Climate and Energy Summit.  And I thank the Government of Spain and the International Energy Agency for bringing us together.You meet in Madrid to strengthen the coalition to respond to a defining challenge of our times:  Saving the 1.5°C limit, by cleaning up global energy.  Time is short, but it is possible.  The International Energy Agency’s new Net Zero Roadmap shows us that.  But we need action now.First, action at COP28 [twenty-eighth Conference of the Parties to the United Nations Framework Convention on Climate Change].  I urge you to work together, in Madrid, and in the United Arab Emirates, to secure a strong outcome in response to the Global Stocktake.  That must include commitments to double energy efficiency, triple renewables capacity, cut methane from the energy sector by 75 per cent, and ensure universal access to energy — all by 2030.These efforts must be accompanied by a collective commitment to accelerate a fair and just phase-out of fossil fuels, as we bring clean power to all.  One without the other equals failure.Second, action from Governments.  I have proposed an Acceleration Agenda.  This calls on Governments to speed up net-zero timelines — so that developed countries get there as close as possible to 2040 and emerging economies as close as possible to 2050.  And it urges all Governments to put in place credible actions, policies and plans that are compatible with a 1.5°C world, and for developed countries to deliver climate justice to those on the front lines of the crisis.That includes, amongst other measures, putting a stop to new coal and phasing out existing coal; shifting subsidies from fossil fuels to renewables — subsidies the International Monetary Fund (IMF) estimates reached $7 trillion last year; and ending new oil and gas licensing.Developed countries must honour the $100 billion commitment, and replenish the Green Climate Fund.  And we must push the multilateral development banks to adapt their business models to leverage far more private finance at reasonable cost to developing countries so they can reduce emissions and adapt.Third, we need action from business.  The Acceleration Agenda calls on companies — including fossil fuel companies — to create credible transition plans across the entire value chain.  All this is eminently achievable.The Climate Ambition Summit I hosted in New York last month indicated a collective way forward.  And it showed that action to meet the 1.5°C limit is not a dream.  It is practical and it is possible.  We know what needs to be done.  Let’s do it.\n",
      "\n",
      "No.6\n",
      "Press Release Link: https://press.un.org/en/2023/sgsm21967.doc.htm\n",
      "\n",
      "Title: Stressing ‘1.5°C Limit Is Possible’, Secretary-General Urges International Climate and Energy Summit to Expedite Fossil-Fuel Phase-Out, Net-Zero Timelines \n",
      "\n",
      "Following is the text of UN Secretary-General António Guterres’ video message to the International Climate and Energy Summit, in Madrid today:I am pleased to join you for this International Climate and Energy Summit.  And I thank the Government of Spain and the International Energy Agency for bringing us together.You meet in Madrid to strengthen the coalition to respond to a defining challenge of our times:  Saving the 1.5°C limit, by cleaning up global energy.  Time is short, but it is possible.  The International Energy Agency’s new Net Zero Roadmap shows us that.  But we need action now.First, action at COP28 [twenty-eighth Conference of the Parties to the United Nations Framework Convention on Climate Change].  I urge you to work together, in Madrid, and in the United Arab Emirates, to secure a strong outcome in response to the Global Stocktake.  That must include commitments to double energy efficiency, triple renewables capacity, cut methane from the energy sector by 75 per cent, and ensure universal access to energy — all by 2030.These efforts must be accompanied by a collective commitment to accelerate a fair and just phase-out of fossil fuels, as we bring clean power to all.  One without the other equals failure.Second, action from Governments.  I have proposed an Acceleration Agenda.  This calls on Governments to speed up net-zero timelines — so that developed countries get there as close as possible to 2040 and emerging economies as close as possible to 2050.  And it urges all Governments to put in place credible actions, policies and plans that are compatible with a 1.5°C world, and for developed countries to deliver climate justice to those on the front lines of the crisis.That includes, amongst other measures, putting a stop to new coal and phasing out existing coal; shifting subsidies from fossil fuels to renewables — subsidies the International Monetary Fund (IMF) estimates reached $7 trillion last year; and ending new oil and gas licensing.Developed countries must honour the $100 billion commitment, and replenish the Green Climate Fund.  And we must push the multilateral development banks to adapt their business models to leverage far more private finance at reasonable cost to developing countries so they can reduce emissions and adapt.Third, we need action from business.  The Acceleration Agenda calls on companies — including fossil fuel companies — to create credible transition plans across the entire value chain.  All this is eminently achievable.The Climate Ambition Summit I hosted in New York last month indicated a collective way forward.  And it showed that action to meet the 1.5°C limit is not a dream.  It is practical and it is possible.  We know what needs to be done.  Let’s do it.\n",
      "\n",
      "No.7\n",
      "Press Release Link: https://press.un.org/en/2023/sgsm21967.doc.htm\n",
      "\n",
      "Title: Stressing ‘1.5°C Limit Is Possible’, Secretary-General Urges International Climate and Energy Summit to Expedite Fossil-Fuel Phase-Out, Net-Zero Timelines \n",
      "\n",
      "Following is the text of UN Secretary-General António Guterres’ video message to the International Climate and Energy Summit, in Madrid today:I am pleased to join you for this International Climate and Energy Summit.  And I thank the Government of Spain and the International Energy Agency for bringing us together.You meet in Madrid to strengthen the coalition to respond to a defining challenge of our times:  Saving the 1.5°C limit, by cleaning up global energy.  Time is short, but it is possible.  The International Energy Agency’s new Net Zero Roadmap shows us that.  But we need action now.First, action at COP28 [twenty-eighth Conference of the Parties to the United Nations Framework Convention on Climate Change].  I urge you to work together, in Madrid, and in the United Arab Emirates, to secure a strong outcome in response to the Global Stocktake.  That must include commitments to double energy efficiency, triple renewables capacity, cut methane from the energy sector by 75 per cent, and ensure universal access to energy — all by 2030.These efforts must be accompanied by a collective commitment to accelerate a fair and just phase-out of fossil fuels, as we bring clean power to all.  One without the other equals failure.Second, action from Governments.  I have proposed an Acceleration Agenda.  This calls on Governments to speed up net-zero timelines — so that developed countries get there as close as possible to 2040 and emerging economies as close as possible to 2050.  And it urges all Governments to put in place credible actions, policies and plans that are compatible with a 1.5°C world, and for developed countries to deliver climate justice to those on the front lines of the crisis.That includes, amongst other measures, putting a stop to new coal and phasing out existing coal; shifting subsidies from fossil fuels to renewables — subsidies the International Monetary Fund (IMF) estimates reached $7 trillion last year; and ending new oil and gas licensing.Developed countries must honour the $100 billion commitment, and replenish the Green Climate Fund.  And we must push the multilateral development banks to adapt their business models to leverage far more private finance at reasonable cost to developing countries so they can reduce emissions and adapt.Third, we need action from business.  The Acceleration Agenda calls on companies — including fossil fuel companies — to create credible transition plans across the entire value chain.  All this is eminently achievable.The Climate Ambition Summit I hosted in New York last month indicated a collective way forward.  And it showed that action to meet the 1.5°C limit is not a dream.  It is practical and it is possible.  We know what needs to be done.  Let’s do it.\n",
      "\n"
     ]
    },
    {
     "name": "stdout",
     "output_type": "stream",
     "text": [
      "No.8\n",
      "Press Release Link: https://press.un.org/en/2023/sgsm21967.doc.htm\n",
      "\n",
      "Title: Stressing ‘1.5°C Limit Is Possible’, Secretary-General Urges International Climate and Energy Summit to Expedite Fossil-Fuel Phase-Out, Net-Zero Timelines \n",
      "\n",
      "Following is the text of UN Secretary-General António Guterres’ video message to the International Climate and Energy Summit, in Madrid today:I am pleased to join you for this International Climate and Energy Summit.  And I thank the Government of Spain and the International Energy Agency for bringing us together.You meet in Madrid to strengthen the coalition to respond to a defining challenge of our times:  Saving the 1.5°C limit, by cleaning up global energy.  Time is short, but it is possible.  The International Energy Agency’s new Net Zero Roadmap shows us that.  But we need action now.First, action at COP28 [twenty-eighth Conference of the Parties to the United Nations Framework Convention on Climate Change].  I urge you to work together, in Madrid, and in the United Arab Emirates, to secure a strong outcome in response to the Global Stocktake.  That must include commitments to double energy efficiency, triple renewables capacity, cut methane from the energy sector by 75 per cent, and ensure universal access to energy — all by 2030.These efforts must be accompanied by a collective commitment to accelerate a fair and just phase-out of fossil fuels, as we bring clean power to all.  One without the other equals failure.Second, action from Governments.  I have proposed an Acceleration Agenda.  This calls on Governments to speed up net-zero timelines — so that developed countries get there as close as possible to 2040 and emerging economies as close as possible to 2050.  And it urges all Governments to put in place credible actions, policies and plans that are compatible with a 1.5°C world, and for developed countries to deliver climate justice to those on the front lines of the crisis.That includes, amongst other measures, putting a stop to new coal and phasing out existing coal; shifting subsidies from fossil fuels to renewables — subsidies the International Monetary Fund (IMF) estimates reached $7 trillion last year; and ending new oil and gas licensing.Developed countries must honour the $100 billion commitment, and replenish the Green Climate Fund.  And we must push the multilateral development banks to adapt their business models to leverage far more private finance at reasonable cost to developing countries so they can reduce emissions and adapt.Third, we need action from business.  The Acceleration Agenda calls on companies — including fossil fuel companies — to create credible transition plans across the entire value chain.  All this is eminently achievable.The Climate Ambition Summit I hosted in New York last month indicated a collective way forward.  And it showed that action to meet the 1.5°C limit is not a dream.  It is practical and it is possible.  We know what needs to be done.  Let’s do it.\n",
      "\n",
      "No.9\n",
      "Press Release Link: https://press.un.org/en/2023/sgsm21967.doc.htm\n",
      "\n",
      "Title: Stressing ‘1.5°C Limit Is Possible’, Secretary-General Urges International Climate and Energy Summit to Expedite Fossil-Fuel Phase-Out, Net-Zero Timelines \n",
      "\n",
      "Following is the text of UN Secretary-General António Guterres’ video message to the International Climate and Energy Summit, in Madrid today:I am pleased to join you for this International Climate and Energy Summit.  And I thank the Government of Spain and the International Energy Agency for bringing us together.You meet in Madrid to strengthen the coalition to respond to a defining challenge of our times:  Saving the 1.5°C limit, by cleaning up global energy.  Time is short, but it is possible.  The International Energy Agency’s new Net Zero Roadmap shows us that.  But we need action now.First, action at COP28 [twenty-eighth Conference of the Parties to the United Nations Framework Convention on Climate Change].  I urge you to work together, in Madrid, and in the United Arab Emirates, to secure a strong outcome in response to the Global Stocktake.  That must include commitments to double energy efficiency, triple renewables capacity, cut methane from the energy sector by 75 per cent, and ensure universal access to energy — all by 2030.These efforts must be accompanied by a collective commitment to accelerate a fair and just phase-out of fossil fuels, as we bring clean power to all.  One without the other equals failure.Second, action from Governments.  I have proposed an Acceleration Agenda.  This calls on Governments to speed up net-zero timelines — so that developed countries get there as close as possible to 2040 and emerging economies as close as possible to 2050.  And it urges all Governments to put in place credible actions, policies and plans that are compatible with a 1.5°C world, and for developed countries to deliver climate justice to those on the front lines of the crisis.That includes, amongst other measures, putting a stop to new coal and phasing out existing coal; shifting subsidies from fossil fuels to renewables — subsidies the International Monetary Fund (IMF) estimates reached $7 trillion last year; and ending new oil and gas licensing.Developed countries must honour the $100 billion commitment, and replenish the Green Climate Fund.  And we must push the multilateral development banks to adapt their business models to leverage far more private finance at reasonable cost to developing countries so they can reduce emissions and adapt.Third, we need action from business.  The Acceleration Agenda calls on companies — including fossil fuel companies — to create credible transition plans across the entire value chain.  All this is eminently achievable.The Climate Ambition Summit I hosted in New York last month indicated a collective way forward.  And it showed that action to meet the 1.5°C limit is not a dream.  It is practical and it is possible.  We know what needs to be done.  Let’s do it.\n",
      "\n",
      "No.10\n",
      "Press Release Link: https://press.un.org/en/2023/sgsm21967.doc.htm\n",
      "\n",
      "Title: Stressing ‘1.5°C Limit Is Possible’, Secretary-General Urges International Climate and Energy Summit to Expedite Fossil-Fuel Phase-Out, Net-Zero Timelines \n",
      "\n",
      "Following is the text of UN Secretary-General António Guterres’ video message to the International Climate and Energy Summit, in Madrid today:I am pleased to join you for this International Climate and Energy Summit.  And I thank the Government of Spain and the International Energy Agency for bringing us together.You meet in Madrid to strengthen the coalition to respond to a defining challenge of our times:  Saving the 1.5°C limit, by cleaning up global energy.  Time is short, but it is possible.  The International Energy Agency’s new Net Zero Roadmap shows us that.  But we need action now.First, action at COP28 [twenty-eighth Conference of the Parties to the United Nations Framework Convention on Climate Change].  I urge you to work together, in Madrid, and in the United Arab Emirates, to secure a strong outcome in response to the Global Stocktake.  That must include commitments to double energy efficiency, triple renewables capacity, cut methane from the energy sector by 75 per cent, and ensure universal access to energy — all by 2030.These efforts must be accompanied by a collective commitment to accelerate a fair and just phase-out of fossil fuels, as we bring clean power to all.  One without the other equals failure.Second, action from Governments.  I have proposed an Acceleration Agenda.  This calls on Governments to speed up net-zero timelines — so that developed countries get there as close as possible to 2040 and emerging economies as close as possible to 2050.  And it urges all Governments to put in place credible actions, policies and plans that are compatible with a 1.5°C world, and for developed countries to deliver climate justice to those on the front lines of the crisis.That includes, amongst other measures, putting a stop to new coal and phasing out existing coal; shifting subsidies from fossil fuels to renewables — subsidies the International Monetary Fund (IMF) estimates reached $7 trillion last year; and ending new oil and gas licensing.Developed countries must honour the $100 billion commitment, and replenish the Green Climate Fund.  And we must push the multilateral development banks to adapt their business models to leverage far more private finance at reasonable cost to developing countries so they can reduce emissions and adapt.Third, we need action from business.  The Acceleration Agenda calls on companies — including fossil fuel companies — to create credible transition plans across the entire value chain.  All this is eminently achievable.The Climate Ambition Summit I hosted in New York last month indicated a collective way forward.  And it showed that action to meet the 1.5°C limit is not a dream.  It is practical and it is possible.  We know what needs to be done.  Let’s do it.\n",
      "\n"
     ]
    }
   ],
   "source": [
    "count = 0\n",
    "while count<10:\n",
    "    for link in links:\n",
    "        response = urllib.request.urlopen(link)\n",
    "        soup = BeautifulSoup(response, 'html.parser')\n",
    "        source_code = urllib.request.urlopen(link).read().decode('utf-8')\n",
    "\n",
    "        press_tag = ''\n",
    "        try:\n",
    "            press_tag = soup.find('a', {'href': '/en/press-release', 'hreflang': 'en'}).text\n",
    "\n",
    "        except:\n",
    "            pass\n",
    "\n",
    "        if press_tag=='Press Release':\n",
    "            body_text=''\n",
    "            for para in soup.find('div',{\"class\":\"field field--name-body field--type-text-with-summary field--label-hidden field__item\"}).find_all('p'):\n",
    "                body_text += para.text\n",
    "            if 'Crisis' in body_text or 'crisis' in body_text:\n",
    "                count+=1\n",
    "                \n",
    "                #save txt file for the html source code\n",
    "                file_name = '1_'+str(count)+'.txt'\n",
    "                with open(file_name,'w',encoding='utf-8') as file:\n",
    "                    file.write(source_code)\n",
    "                \n",
    "                print('No.'+str(count))\n",
    "                print('Press Release Link: '+link)\n",
    "                print('')\n",
    "                title = soup.find('h1', {'class': 'page-header'}).text\n",
    "                print('Title: '+title)\n",
    "                print('')\n",
    "                print(body_text)\n",
    "                print('')\n",
    "        \n",
    "        if count>10:\n",
    "            break\n",
    "    \n",
    "    next_page_url = press_page_url+soup_first.find('li',{\"class\":\"page-item pager__item pager__item--next\"}).find('a').get('href')\n",
    "    response = urllib.request.urlopen(next_page_url)\n",
    "    soup = BeautifulSoup(response, 'html.parser')\n",
    "        \n",
    "    links = []\n",
    "    for page in soup.find('div',{\"class\":\"view-content\"}).find_all('a'):\n",
    "        links.append(page.get('href'))\n",
    "    links = ['https://press.un.org' + link for link in links]"
   ]
  },
  {
   "cell_type": "markdown",
   "id": "2b9dd2a2",
   "metadata": {},
   "source": [
    "# Part 2"
   ]
  },
  {
   "cell_type": "code",
   "execution_count": 5,
   "id": "1d183c85",
   "metadata": {},
   "outputs": [],
   "source": [
    "url = 'https://www.europarl.europa.eu/news/en/press-room/page/'"
   ]
  },
  {
   "cell_type": "code",
   "execution_count": 6,
   "id": "b1e3a664",
   "metadata": {},
   "outputs": [],
   "source": [
    "page_number=0"
   ]
  },
  {
   "cell_type": "code",
   "execution_count": 7,
   "id": "cfee43ba",
   "metadata": {},
   "outputs": [],
   "source": [
    "response = urllib.request.urlopen(url+str(page_number))\n",
    "soup = BeautifulSoup(response, 'html.parser')"
   ]
  },
  {
   "cell_type": "code",
   "execution_count": 8,
   "id": "bd89e02d",
   "metadata": {},
   "outputs": [
    {
     "data": {
      "text/plain": [
       "['https://www.europarl.europa.eu/news/en/press-room/20231006IPR06504/where-there-is-a-political-will-there-is-a-way-migration-enlargement-budget',\n",
       " 'https://www.europarl.europa.eu/news/en/press-room/20230929IPR06139/greening-the-bond-markets-meps-approve-new-standard-to-fight-greenwashing',\n",
       " 'https://www.europarl.europa.eu/news/en/press-room/20230929IPR06132/nagorno-karabakh-meps-demand-review-of-eu-relations-with-azerbaijan',\n",
       " 'https://www.europarl.europa.eu/news/en/press-room/20230929IPR06137/parliament-pushes-for-start-of-eu-accession-talks-with-moldova',\n",
       " 'https://www.europarl.europa.eu/news/en/press-room/20230929IPR06135/human-rights-breaches-in-afghanistan-chechnya-and-egypt',\n",
       " 'https://www.europarl.europa.eu/news/en/press-room/20230929IPR06138/meps-back-wopke-hoekstra-as-commissioner-new-tasks-for-vice-president-sefcovic',\n",
       " 'https://www.europarl.europa.eu/news/en/press-room/20230929IPR06109/a-long-term-solution-for-ukraine-s-funding-needs',\n",
       " 'https://www.europarl.europa.eu/news/en/press-room/20230929IPR06110/human-trafficking-meps-want-strong-focus-on-victims-rights',\n",
       " 'https://www.europarl.europa.eu/news/en/press-room/20230717IPR03026/deal-reached-on-reducing-fluorinated-gas-emissions-in-the-eu',\n",
       " 'https://www.europarl.europa.eu/news/en/press-room/20230928IPR06007/ep-today',\n",
       " 'https://www.europarl.europa.eu/news/en/press-room/20231004IPR06322/parliament-to-vote-on-the-appointments-of-wopke-hoekstra-and-maros-sefcovic',\n",
       " 'https://www.europarl.europa.eu/news/en/press-room/20230929IPR06129/czech-president-pavel-to-meps-if-ukraine-fails-so-will-we',\n",
       " 'https://www.europarl.europa.eu/news/en/press-room/20230929IPR06128/three-countries-to-receive-nearly-EU455-million-in-eu-aid-after-natural-disasters',\n",
       " 'https://www.europarl.europa.eu/news/en/press-room/20230929IPR06131/meps-want-to-tackle-inconsistent-rules-for-airline-carry-on-luggage',\n",
       " 'https://www.europarl.europa.eu/news/en/press-room/20230928IPR06006/ep-today']"
      ]
     },
     "execution_count": 8,
     "metadata": {},
     "output_type": "execute_result"
    }
   ],
   "source": [
    "links = []\n",
    "for page in soup.find_all('a'):\n",
    "    links.append(page.get('href'))\n",
    "links"
   ]
  },
  {
   "cell_type": "code",
   "execution_count": 9,
   "id": "5fc1a2bf",
   "metadata": {},
   "outputs": [
    {
     "name": "stdout",
     "output_type": "stream",
     "text": [
      "No.1\n",
      "Press Release Link: https://www.europarl.europa.eu/news/en/press-room/20230929IPR06132/nagorno-karabakh-meps-demand-review-of-eu-relations-with-azerbaijan\n",
      "\n",
      "Title: \n",
      "Nagorno-Karabakh: MEPs demand review of EU relations with Azerbaijan \n",
      "\n",
      "\n",
      "In a resolution adopted on Thursday, Parliament strongly condemns Azerbaijan’s pre-planned and unjustified military attack against Nagorno-Karabakh on 19 September, which MEPs say constitutes a gross violation of international law and human rights and a clear infringement of previous attempts to achieve a ceasefire. With over 100,000 ethnic Armenians having been forced to flee the enclave since the latest offensive, MEPs say the current situation amounts to ethnic cleansing and strongly condemn threats and violence committed by Azerbaijani troops against the Armenian inhabitants of Nagorno-Karabakh.They also call on the EU and member states to immediately offer all necessary assistance to Armenia to deal with the influx of refugees from Nagorno-Karabakh and the subsequent humanitarian crisis.MEPs want to see Azeri officials sanctionedAppalled by Azerbaijan’s latest attack, Parliament calls on the EU to adopt targeted sanctions against the government officials in Baku responsible for multiple ceasefire violations and human rights abuses in Nagorno-Karabakh. While reminding the Azeri side that it bears full responsibility for ensuring the safety and well-being of all people in the enclave, MEPs demand investigations into abuses committed by Azerbaijani troops that may constitute war crimes.Expressing serious concern over irredentist and inflammatory statements by Azerbaijani president llham Aliyev and other Azeri officials threatening the territorial integrity of Armenia, MEPs warn Baku against any potential military adventurism and call on Türkiye to restrain its ally. They also condemn Türkiye’s involvement in arming Azerbaijan and its full support for Baku’s offensives in both 2020 and 2023.The EU must reassess its relations with AzerbaijanParliament calls on the EU to undertake a comprehensive review of its relations with Baku. To develop a strategic partnership with a country like Azerbaijan, which blatantly violates international law and international commitments, and has an alarming human rights record, is incompatible with the objectives of EU foreign policy, MEPs say. They urge the EU to suspend any negotiations on a renewed partnership with Baku, and should the situation not improve, consider suspending the application of the EU visa facilitation agreement with Azerbaijan.Parliament also calls on the EU to reduce its dependency on Azeri gas imports and, in the event of military aggression or significant hybrid attacks against Armenia, for a full EU import stop of Azeri oil and gas. In the meantime, MEPs want the current Memorandum of Understanding on a Strategic Partnership in the Field of Energy between the EU and Azerbaijan to be suspended.The resolution was adopted by 491 votes in favour, 9 against with 36 abstentions.\n",
      "\n",
      "page0done\n",
      "No.2\n",
      "Press Release Link: https://www.europarl.europa.eu/news/en/press-room/20230929IPR06130/parliament-argues-for-a-top-up-to-multi-annual-budget-for-crisis-response\n",
      "\n",
      "Title: \n",
      "Parliament argues for a top-up to multi-annual budget for crisis response \n",
      "\n",
      "\n",
      "Following the Commission’s proposal for a mid-term revision on the EU’s long-term budget, MEPs in plenary endorsed an extra €10 billion for the years 2024-2027, on top of the €65.8 billion proposed by the Commission.Addressing pressing challengesIn light of recent external challenges, especially the Russian war against Ukraine and growing migration issues, MEPs bolstered the relevant budgetary areas by €2 billion. They have allocated an additional €3 billion towards the new \"Strategic Technologies for Europe Platform\" (STEP) and earmarked €5 billion to enhance the EU's ability to respond to unforeseen crises.As for the debt payments resulting from the Recovery plan, MEPs demand that they be positioned above the EU’s budgetary caps. This is to ensure that EU programmes directly benefiting citizens are not compromised, especially given the potential volatility of these costs with rising interest rates.Critical timelineMEPs stress that a swift adoption of the amended regulation is key, as the revised MFF should be operational by 1 January 2024 to offer a framework for that year's annual budget.The interim report on the proposal for a mid-term revision of the Multiannual Financial Framework 2021-2027 was approved by 393 votes against 136 and 92 abstentions.Press conferenceA press conference with EP President Roberta Metsola and the co-rapporteurs takes place after the vote on 3 October at 14:00 in the Parliament’s press conference room in Strasbourg. Follow it live via web streaming.QuotesCo-rapporteur Jan Olbrycht (EPP, PL) said: “Our goal was an ambitious but realistic proposal for the MFF revision and we have managed to keep it targeted but comprehensive. We aim to stabilise Ukraine's situation with a new €50 billion facility while bolstering the EU’s economy. We are reinforcing the budget with top-ups for migration and ensuring flexibility to respond to crises. –We are boosting the EU’s economy with STEP. And we are stabilising the budget by advocating for interest payments on debt owed on the EU's Recovery Fund (EURI line) to be placed above the EU’s budgetary caps. We need all elements of the revision and we need it on time - before January 2024 - to enter the election year with a balanced budget.”Co-rapporteur Margarida Marques (S&D, PT) said: “Today, the Parliament outlined the financial resources required for the upcoming four years. We urge the Council to join us in negotiations. By 31 December 2023, we want to have in place adequate means to support Ukraine and continue mitigating the war's social and economic impact, along with rising inflation and the cost of living crisis. We want to secure the necessary funds to bolster the EU's strategic autonomy, implement the Migration Pact, and navigate today’s complex global geopolitical landscape while ensuring the budget has adequate flexibility to address emerging needs, respond to humanitarian crises, and aid member states and citizens facing the increasing effects of natural disasters.”Next stepsWith this plenary vote, Parliament’s negotiators are ready to engage in discussions with the Council (member states), which is yet to finalise its stance on the package.BackgroundThe Multiannual Financial Framework (MFF) sets the annual limits (expenditure ‘ceilings’) on EU commitments in different policy areas (broad categories of spending called 'headings') and on overall annual payments for a period of seven years. The current framework for 2021-2027 was adopted in 2020 and provides for a review of the functioning of the MFF, with, where appropriate, proposals for a revision, by 1 January 2024. The European Commission proposed a mid-term revision on 20 June 2023.\n",
      "\n",
      "page1done\n",
      "No.3\n",
      "Press Release Link: https://www.europarl.europa.eu/news/en/press-room/20230911IPR04923/reduce-demand-and-protect-people-in-prostitution-say-meps\n",
      "\n",
      "Title: \n",
      "Reduce demand and protect people in prostitution, say MEPs \n",
      "\n",
      "\n",
      "The report on prostitution in the EU, its cross-border implications and impact on gender equality and women’s rights was adopted by MEPs with 234 votes in favour, 175 against and 122 abstentions. It underlines that the asymmetry between national rules on prostitution within the EU, given its cross-border nature, leads to more victims of trafficking for sexual exploitation and makes for fertile operating ground for organised crime. Member states should assess existing legislation to avoid any loopholes that allow criminals to act with impunity, while the Commission should develop common EU guidelines guaranteeing the fundamental rights of people in prostitution.Measures to cut demand and online advertisement Prostitution and trafficking for sexual exploitation exist because there is a demand for them, MEPs note. Reducing demand is therefore key to prevent and reduce human trafficking and must be done in a way that does not harm those in prostitution, they say. They call on the member states to take urgent measures to tackle online advertisement that directly or indirectly encourages prostitution or seeks to attract buyers.MEPs also demand support for and cooperation with the police and other law enforcement agencies, social and medical services and NGOs to address trafficking and sexual exploitation and protect women in prostitution.Give people in prostitution access to essential services and protect their rights The worsening social and economic situation due to COVID-19, and the current energy and cost-of-living crisis have increased all forms of abuse and violence against women, MEPs say, including sexual exploitation, with many women in vulnerable situations being driven into poverty and social exclusion. MEPs demand efficient policies against poverty. They want to improve social protection, tackle school failure, promote education, and the establishment of inclusive policies that support women’s empowerment and economic independence, along with measures that condemn those who exploit.People in prostitution face the constant threat of police and judicial persecution, and are marginalised and stigmatised, the report notes, which often hinders their ability to seek justice. MEPs call for full access to high-quality health and social services as well as to the justice system and pathways out of prostitution.QuoteMaria Noichl (S&D Germany) rapporteur, said: “Today Parliament is giving a voice to people, and especially women, who have traditionally been overlooked, marginalised and stigmatised in our societies. We are standing by those who have warned for a long time about the reality of prostitution. This report outlines the reasons why the big majority of people end up in prostitution, and it highlights the way forward: create exit programmes and alternatives, eradicate poverty and social exclusion, dismantle stereotypes and inequalities, and reduce demand by tackling the buyers.”\n",
      "\n"
     ]
    },
    {
     "name": "stdout",
     "output_type": "stream",
     "text": [
      "page2done\n",
      "No.4\n",
      "Press Release Link: https://www.europarl.europa.eu/news/en/press-room/20230911IPR04918/svietlana-tsikhanouskaya-to-meps-support-belarusians-european-aspirations\n",
      "\n",
      "Title: \n",
      "Svietlana Tsikhanouskaya to MEPs: support Belarusians’ European aspirations \n",
      "\n",
      "\n",
      "Addressing the plenary, the leader of Belarus’ democratic forces Svietlana Tsikhanouskaya called on MEPs to support Belarus’ European perspective and urged Parliament to take its relationship with democratic Belarus to a new level, She proposed the signing of a memorandum before the 2024 EP elections as the basis of cooperation between the European Parliament and democratic Belarus. “Belarusians want to hear that our country will not be given to Putin as a consolation prize,” she said.Ms Tsikhanouskaya said they would need help in their fight to bring democracy to Belarus. Lukashenka does not deserve place in the international community, but a ticket to the international court in Hague, she said. Next year Belarusian democratic forces should start issuing their own passports that would confirm Belarusian citizenship, Ms Tsikhanouskaya announced, which will serve as a travel document for exiled Belarusians. ,.Soon she will ask EU governments to recognise this new travel document.You can watch her speech again here. (13.09.2023)EP President Metsola said: “The people of Belarus must be able to live in freedom. Free from autocracy. Free from oppression. It is what they want. It is what they chose. It is what they deserve. We will continue to support Belarusian democratic forces and to play an active role in shaping the European Union’s response to the on-going political crisis in Belarus. It is critical that we further expand European Union sanctions against the regime and do not lose sight of what they have done.”Prize for EP President MetsolaDuring a bilateral meeting, EP President Roberta Metsola received the \"Cross of good neighbourhood\", awarded to outstanding individuals who have significantly helped the cause of Belarusians, from Ms TsikhanouskayaMEPs alarmed over the situation in BelarusOn Wednesday, Parliament also adopted a new report on EU relations with Belarus, supporting the country’s democratic political parties in their declarations about the European aspirations of Belarusians. MEPs call on the Belarusian regime to release all political prisoners and strongly condemn the Minsk regime’s role as an accomplice in Russia’s war of aggression against Ukraine. They note with great concern the rampant political, economic, military and cultural subordination of Belarus to Moscow, rendering the country a de-facto satellite state hosting tactical nuclear weapons under Russian command.In the report, MEPs also call for tougher EU sanctions against Belarus while stressing that the recent arrival of Russian mercenary Wagner Group fighters creates new potential security risks for Ukraine as well as for Belarus’ EU neighbours and the wider EU. The text will be available in full here (13.09.2023). EU Foreign Policy Chief Josep Borrell and MEPs also discussed the new report on Tuesday afternoon (12.09.2023).The report adopted by 453 votes in favour, 21against and 40 abstentions.\n",
      "\n",
      "No.5\n",
      "Press Release Link: https://www.europarl.europa.eu/news/en/press-room/20230911IPR04908/meps-vote-to-strengthen-eu-defence-industry-through-common-procurement\n",
      "\n",
      "Title: \n",
      "MEPs vote to strengthen EU defence industry through common procurement \n",
      "\n",
      "\n",
      "The regulation, already agreed with the Council on 27 June 2023, establishes a short-term instrument for the reinforcement of the European defence industry through common procurement until 31 December 2025. It will help member states to fill their most urgent and critical defence needs, which have been exacerbated by transfers of defence products to Ukraine, in a voluntary and collaborative way.At least three EU countries per consortium and EU-based contractorsA 300 million euros budget will finance the instrument. Joint purchases will have to involve at least three member states, and should be open to the participation of members of the European Free trade Association which are members of the European Economic Area (associated countries).Contractors and subcontractors must be established in the EU or in an associated country, and not be subject to control by a non-associated third country or entity. The cost of components originating in the EU or associated countries shall not be lower than 65% of the estimated value of the end product.Bonuses for projects supporting Ukraine, Moldova and SMEsThe EU financial contribution to each action will be capped at 15% of the estimated value of the common procurement contract per consortium. This ceiling may be raised to 20% if Ukraine or Moldova are recipients of additional quantities of defence products, or if at least 15% of the estimated value of the common procurement contract is allocated to SMEs or mid-capitalisation companies (those with a medium market capitalisation, known as midcaps), as contractors or subcontractors.Quotes“Today's vote marks a historic moment for EU defence, establishing the first EU instrument for joint procurement by member states. It will help them to refill their stocks, increase interoperability among our armed forces, strengthen our industry and contribute to our unwavering support for Ukraine. However, facing a historical crisis, EDIRPA can only be a starting point for a far more ambitious common defence agenda,” co-rapporteur for Foreign Affairs committee Michael Gahler (EPP, DE) said after the vote.“We have reached a reasonable compromise that will make EDIRPA complementary to another regulation important for the defence sector: the Act in Support of Ammunition Production. We managed to defend the Parliament's priorities, including for projects that will support Ukraine or Moldova. Most importantly, by intensifying the joint procurement of military equipment, EDIRPA will help to strengthen member states’ defence capabilities,” co-rapporteur for Industry, Research and Energy committee Zdzislaw Krasnodębski (ECR, Poland) said.Next stepsThe legislation was adopted with 530 votes to 66, with 32 abstentions. It now requires the Council's formal approval in order to become law.BackgroundRussia’s war of aggression against Ukraine has dramatically underlined the need to adapt the European defence industrial and technological base (EDTIB) to structural changes: ramp up EU military R&D, modernise military equipment, and strengthen cooperation between Member States in the framework of procurement in the field of defence, in order to make the Union a relevant global player.\n",
      "\n",
      "page3done\n",
      "page4done\n",
      "No.6\n",
      "Press Release Link: https://www.europarl.europa.eu/news/en/press-room/20230707IPR02427/covid-19-parliament-adopts-roadmap-to-better-prepare-for-future-health-crises\n",
      "\n",
      "Title: \n",
      "COVID-19: Parliament adopts roadmap to better prepare for future health crises \n",
      "\n",
      "\n",
      "Over the past year, the European Parliament’s Special Committee on the COVID-19 pandemic (COVI) analysed the impact of the crisis, evaluated the effectiveness of EU and national measures and made specific recommendations to address gaps and weaknesses in their actions. Parliament debated the report on Tuesday and adopted the text on Wednesday by 385 votes in favour, 193 against and 63 abstentions.MEPs outlined a clear roadmap for future action in four main areas: health, democracy and fundamental rights, social and economic aspects, and global response to the pandemic.Key proposals include enhancing the EU’s strategic autonomy for medicines, transparency for joint procurement activities, and stronger parliamentary oversight at both EU and national levels for emergency legislation. MEPs also demand the EU maximise the use of recovery funding to strengthen the single market, and want improved global coordination with the upcoming international pandemic treaty.The detailed recommendations are available here.QuotesCOVI Chair Kathleen Van Brempt (S&D, BE) said: “Our Committee has undertaken a thorough assessment of the course of the pandemic and its impact on the EU. It became clear that Europe not only needs the tools to develop long-term policies, with clear goals and roadmaps. It must also be ready to act quickly, efficiently and in the interests of every European. The EU must also thoroughly evaluate its role in the global response to the pandemic and commit more than ever to international cooperation and solidarity, especially with partners in the Global South. It is now up to the European Commission to take our recommendations and table proposals to shape a more crisis-resilient and future-proof EU.”COVI Rapporteur Dolors Montserrat (EPP, ES) said: \"The COVI report is the result of dialogue, consensus and rigour. The EU’s response to the pandemic was exemplary in securing vaccines, NextGenerationEU funds, and preparing for future health emergencies. We must strengthen the EU further to protect our health workers, to make sure we do not neglect any disease, and to help the most vulnerable in society. We must boost research, fight against fake news and cyber attacks, and create a competitive pharmaceutical sector that enhances the EU's strategic autonomy in health.”BackgroundIn March 2022, Parliament established a “Special committee on the COVID-19 pandemic: lessons learned and recommendations for the future” (COVI). The committee evaluated not only the impact on health systems and the vaccination campaign, but also the broader socio-economic impact, the impact on the rule of law and democracy, and the international response to the pandemic. It organised a thorough consultation process through a series of public hearings, workshops and on-site missions, exchanging views with experts, policymakers from EU institutions and international organisations, epidemiologists, health ministers, pharmaceutical companies, healthcare workers and researchers.In adopting this report, Parliament is responding to citizens' expectations to reinforce the resilience of our health systems and EU’s competitiveness, and to ensure equal access to health for all, as expressed in proposals 8(3), 8(4), 8(6), 10(2) and 12(12) of the conclusions of the Conference on the Future of Europe.\n",
      "\n"
     ]
    },
    {
     "name": "stdout",
     "output_type": "stream",
     "text": [
      "page5done\n",
      "No.7\n",
      "Press Release Link: https://www.europarl.europa.eu/news/en/press-room/20230707IPR02421/parliament-adopts-new-rules-to-boost-energy-savings\n",
      "\n",
      "Title: \n",
      "Parliament adopts new rules to boost energy savings \n",
      "\n",
      "\n",
      "The law will set energy-saving targets in both primary and final energy consumption in the EU.Member states will have to collectively ensure a reduction in energy consumption of at least 11.7% at EU level by 2030 (compared to the projections of the 2020 Reference Scenario). A robust monitoring and enforcement mechanism will accompany this objective to make sure member states deliver on their national contributions to this binding EU target.By 2030, member states need to save on average 1.5% per year. The annual energy savings will begin with 1.3% in the period until the end of 2025, and will progressively reach 1.9% in the last period up to the end of 2030.The saving targets should be met through local, regional and national measures, in different sectors - e.g. public administration, buildings, businesses, data centres, etc. MEPs insisted that the scheme should in particular cover the public sector, which will have to reduce its final energy consumption by 1.9% each year. Member states should also ensure that at least 3% of public buildings are renovated each year into nearly-zero energy buildings or zero-emission buildings. The directive also establishes new requirements for efficient district heating systems.QuoteRapporteur Niels Fuglsang (S&D, DK), said: \"The energy crisis is not over. There is no guarantee that the next winters will be as mild as the last one. In the next seven years, we have to deliver the needed structural changes. I am very happy that we succeeded in pushing member states towards far more ambitious energy efficiency targets. This is crucial so that we no longer depend on Russian energy in the future, and can meet our climate targets. Today’s vote is a great victory; it is not only good for our climate, but bad for Putin.\"Next stepsParliament adopted the legislation by 471 votes to 147, with 17 abstentions. It will now also have to be endorsed by the Council of Ministers before it can enter into force.BackgroundOn 14 July 2021, the European Commission adopted the 'Fit for 55' package, adapting existing climate and energy legislation to meet the new EU objective of a minimum 55% reduction in greenhouse gas (GHG) emissions by 2030The package included the recast of the existing Energy Efficiency Directive (EED), aligning its provisions with the new 55% GHG target.Conference on the Future of EuropeBy advancing this directive, Members of the European Parliament are responding to citizens' proposals from the conclusions of the Conference on the Future of Europe. The Energy efficiency directive addresses proposal 3(3), which aims to reduce dependencies from oil and gas imports through energy efficiency projects and expansion of clean and renewable energy provision.The directive also aligns with proposal 3(5) advocating for investments in renewable energy technologies, and proposal 3(6) promoting exploration of new eco-friendly energy sources and storage methods, supporting the EU's climate goals. Furthermore, it aligns with proposal 11(1) which promotes greener production processes by companies, supporting them to identify the best solutions. \n",
      "\n",
      "No.8\n",
      "Press Release Link: https://www.europarl.europa.eu/news/en/press-room/20230707IPR02418/semiconductors-meps-adopt-legislation-to-boost-eu-chips-industry\n",
      "\n",
      "Title: \n",
      "Semiconductors: MEPs adopt legislation to boost EU chips industry \n",
      "\n",
      "\n",
      "The new law, already agreed upon between Parliament and Council, aims to create a favourable environment for chip investments in Europe, by fast tracking permitting procedures and recognising their critical importance via a so-called \"highest national significance statute\". Small and medium-sized businesses will also benefit from increased support, especially in the area of chip design, in order to boost innovation.The legislation will support projects that boost the EU’s security of supply by attracting investment and building up production capacity. During the talks with the representatives of the Council, MEPs secured €3.3 billion for research and innovation related to chips. A network of competence centres will be created to address the EU’s skills shortage and attract new talent for research, design and production.Crisis response mechanism to address supply problemsA crisis response mechanism will be set up, through which the Commission will assess the risks to the EU’s supply of semiconductors. Early warning indicators in member states will be used to trigger an EU-wide shortage alert.This mechanism will allow the Commission to implement emergency measures such as prioritising the supply of products particularly affected by a shortage, or carrying out common purchasing for member states. MEPs further improved the scheme by introducing a mapping tool that will help identify possible supply bottlenecks. These measures will be a last resort in the event of a crisis in the semiconductors sector.Parliament also backed provisions to strengthen international cooperation with strategic partners and on intellectual property rights, to guarantee competitive advantages and protection for the EU sector.QuoteRapporteur Dan Nica (S&D, RO) said: \"With the European Chips Act, we aim to strengthen the EU’s position in the global semiconductor landscape and to address the vulnerabilities in supply chains exposed by the pandemic. We want to have more influence and to be leaders, so we have secured €3.3 billion for research and innovation. We aim to boost technological capacity, and are implementing measures to combat potential shortages. Europe is prepared to face the future challenges in the semiconductor industry, prioritising strategic autonomy, security, and a favourable business environment.”Next stepsThe legislation was adopted with 587 votes to 10, with 38 abstentions. It will now have to be endorsed by the Council of ministers in order to become law.BackgroundA study from Parliament highlights that Europe’s share in global production capacity of semiconductors is below 10%. The legislative proposal aims to bring it up to 20%. Another piece of Parliament analysis from 2022 highlighted that the pandemic has revealed long-standing vulnerabilities in global supply chains, and the unprecedented shortage of semiconductors is a prime example. It shows what might be in store in the years to come. These shortages have led, among other issues, to rising costs for industry and higher prices for consumers, and have been slowing down the pace of recovery in Europe.Conference on the Future of EuropeWith the European Chips Act, MEPs respond to citizens' proposals from the conclusions of the Conference on the Future of Europe. This Act addresses proposal 11(5) by promoting the expansion of European technology as a robust alternative to foreign counterparts. It also responds to the need for supply security and manufacturing enhancement in Europe, as outlined in proposal 12(12). The Act echoes the sentiments of proposal 17(3) and 17(7), advocating for strengthened EU supply chains through strategic investments and enhanced inter-member state cooperation to manage supply chain risks. With over €43 billion of public and private investments mobilised, the Act sets forth measures to proactively manage and swiftly respond to future supply chain disruptions. \n",
      "\n",
      "No.9\n",
      "Press Release Link: https://www.europarl.europa.eu/news/en/press-room/20230706IPR02317/ep-today\n",
      "\n",
      "Title: \n",
      "EP TODAY \n",
      "\n",
      "\n",
      "MEPs debate the Nature Restoration lawAt 9.00, plenary will debate the Nature Restoration law with Environment Commissioner Sinkevičius. Following the lack of a majority in the Environment Committee for the Commission’s proposal as amended for a Nature Restoration Law, the full House will then vote on Wednesday on whether to reject the Commission’s proposal or amend it.Thomas HAAHR(+32) 470 88 09 87EP_Environment Debate and final vote on the EU Chips ActFollowing the conclusion of negotiations in April, MEPs will debate the EU Chips Act from around 10.30 with Internal Market Commissioner Breton. The Act aims to secure the supply of chips by boosting production and innovation, and introduces a crisis response mechanism in case of shortages, thereby strengthening the EU’s strategic autonomy and security. The final vote on the legislation will take place at noon today.Baptiste CHATAIN(+32) 498 98 13 37EP_IndustryLessons learned from the COVID-19 pandemicAt 13.00, Parliament will debate the recommendations by its Special Committee on how to better prepare for future crises with Commission Vice-President Schinas . MEPs are set to demand that the European Health Union and the resilience of national health systems be boosted and for an increase in parliamentary oversight of measures, coordination and solidarity. The vote will take place on Wednesday.Dana POPP(+32) 470 95 17 07EP_EnvironmentVote on backsliding on European values in PolandFollowing a debate in the last plenary, Parliament is set to adopt at noon a resolution criticising the worrying situation in Poland in relation to the state of EU values and recent developments like the revision of the electoral law and the “Lex Tusk”.Kyriakos KLOSIDIS(+32) 470 96 47 35EP_JusticeIn briefSrebrenica. At around 11.50, EP President Metsola will give a statement commemorating Srebrenica’s 28-year anniversary, followed by one round of political groups’ speakers.New Ecodesign regulation. In the evening, MEPs will debate with Environment Commissioner Sinkevičius new ecodesign draft rules to make sustainable products the norm in the EU, ahead of negotiations with EU governments. The vote will take place on Wednesday.Relations with the Palestinian Authority. During a debate with Commissioner for International Partnerships Urpilainen, MEPs are set to deplore the lack of legislative and presidential elections in the Palestinian territories and call for new ones as soon as possible. The vote is scheduled on Wednesday.EU enlargement. In a debate with Enlargement Commissioner Várhelyi, MEPs are expected to welcome accession negotiations with Albania and warn Bosnia and Herzegovina not to waste the momentum gained by becoming a candidate country. The vote will take place on Wednesday.VotesFrom 12.00 to 13.00, MEPs will vote, among other things, onLive coverage of the plenary session can be found on Parliament’s webstreaming and on EbS+.For detailed information on the session, please also see our newsletter.All information regarding plenary, can be found here.\n",
      "\n"
     ]
    },
    {
     "name": "stdout",
     "output_type": "stream",
     "text": [
      "No.10\n",
      "Press Release Link: https://www.europarl.europa.eu/news/en/press-room/20230706IPR02316/ep-today\n",
      "\n",
      "Title: \n",
      "EP TODAY \n",
      "\n",
      "\n",
      "Last-minute press briefing at 16.30The Parliament’s Spokesperson and the Press Service will hold a press briefing on this week’s plenary session at 16.30. More information here.Journalists wishing to actively participate and ask questions, please connect via Interactio by using this link.Joint debate on Fit for 55 laws and industrial emissionsAfter the opening of the session, plenary will debate three “Fit for 55” laws, the EU’s plan to reduce greenhouse gas emissions by at least 55% by 2030 compared to 1990 levels, as well as two laws to reduce industrial emissions.Reducing energy consumption in the EUMEPs will debate new rules to reduce energy consumption by at least 11.7% in the EU by 2030. Measures will need to be implemented at local, regional, and national levels across various sectors, including public administration, buildings, businesses and data centres. The final vote will take place on Tuesday.Baptiste CHATAIN(+32) 498 98 13 37EP_IndustryMore charging stations and greener maritime fuelPlenary will discuss new EU rules to deploy recharging or alternative refuelling stations for cars every 60km and trucks every 120km, in order to reduce emissions in the transport sector, as well as for cleaner maritime fuels. The final vote on both laws will take place on Tuesday, followed by a press conference with the rapporteurs.Gediminas VILKAS(+32) 470 89 29 21EP_TransportReducing industrial emissionsMEPs will debate new rules to reduce pollution and steer the green transition of large agro-industrial installations by controlling their emissions into the air, water and soil. The vote on Parliament’s position for negotiations with Council will take place on Tuesday.Thomas HAAHR(+32) 470 88 09 87EP_EnvironmentBetter protection of journalists and activists In the evening, MEPs will debate their position on new rules to protect journalists, media organisations, activists, academics, artists and researchers from attempts to silence them through unfounded and abusive legal proceedings (so-called strategic lawsuits against public participation, SLAPPs). The vote will take place on Tuesday, a press conference with EP President Metsola and the rapporteur is scheduled at 10.00 on Wednesday.Martina VASS(+32) 477 99 11 57EP_LegalMore ammunition for Ukraine: vote in CommitteeAt around 19.00, the Committee on Industry, Research and Energy is expected to approve the deal struck with Council on the Act in Support of Ammunition Production (ASAP), which aims to accelerate the delivery of ammunition and missiles to Ukraine and to help member states restock their arsenal. The full House is set to take a final vote later this week.Baptiste CHATAIN(+32) 498 98 13 37EP_IndustryIn briefAnimal testing in cosmetics. In the evening, Parliament will debate the European Citizens’ Initiative “Save Cruelty Free Cosmetics” which demands a strengthening of the ban on animal testing, a transformation of the EU Chemicals Regulation, and a transition to non-animal science.Protection from extreme weather. MEPs will debate how to protect workers from extreme heat and other extreme weather phenomena resulting from the climate crisis in the evening.Live coverage of the plenary session can be found on Parliament’s webstreaming and on EbS+.For detailed information on the session, please also see our newsletter.All information regarding plenary, can be found here.\n",
      "\n",
      "page6done\n"
     ]
    }
   ],
   "source": [
    "count = 0\n",
    "while count<10:\n",
    "    for link in links:\n",
    "        response = urllib.request.urlopen(link)\n",
    "        soup = BeautifulSoup(response, 'html.parser')\n",
    "        source_code = urllib.request.urlopen(link).read().decode('utf-8')\n",
    "\n",
    "        plenary_tag = ''\n",
    "        try:\n",
    "            plenary_tag = soup.find('div', {'class': 'ep-p_text ep-layout_contenttype ep-layout_plenary'}).find('span', {'class': 'ep_name'}).text\n",
    "\n",
    "\n",
    "        except:\n",
    "            pass\n",
    "        \n",
    "        \n",
    "        if plenary_tag=='Plenary session':\n",
    "            body_text=''\n",
    "            for para in soup.find_all('p',{\"class\":\"ep-wysiwig_paragraph\"}):\n",
    "                body_text += para.text\n",
    "            if 'Crisis' in body_text or 'crisis' in body_text:\n",
    "                count+=1\n",
    "                \n",
    "                #save txt file for the html source code\n",
    "                #first number represents the part number, second is the file number\n",
    "                file_name = '2_'+str(count)+'.txt'\n",
    "                with open(file_name,'w',encoding='utf-8') as file:\n",
    "                    file.write(source_code)\n",
    "                \n",
    "                print('No.'+str(count))\n",
    "                print('Press Release Link: '+link)\n",
    "                print('')\n",
    "                title = soup.find('h1', {'class': 'ep_title'}).text\n",
    "                print('Title: '+title)\n",
    "                print('')\n",
    "                print(body_text)\n",
    "                print('')\n",
    "        \n",
    "        if count>10:\n",
    "            break\n",
    "    \n",
    "    print('page'+str(page_number)+'done')\n",
    "    page_number+=1\n",
    "    next_page_url = url+str(page_number)\n",
    "    response = urllib.request.urlopen(next_page_url)\n",
    "    soup = BeautifulSoup(response, 'html.parser')\n",
    "        \n",
    "    links = []\n",
    "    for page in soup.find_all('a'):\n",
    "        links.append(page.get('href'))"
   ]
  },
  {
   "cell_type": "code",
   "execution_count": null,
   "id": "17bc4fc7",
   "metadata": {},
   "outputs": [],
   "source": []
  }
 ],
 "metadata": {
  "kernelspec": {
   "display_name": "Python 3 (ipykernel)",
   "language": "python",
   "name": "python3"
  },
  "language_info": {
   "codemirror_mode": {
    "name": "ipython",
    "version": 3
   },
   "file_extension": ".py",
   "mimetype": "text/x-python",
   "name": "python",
   "nbconvert_exporter": "python",
   "pygments_lexer": "ipython3",
   "version": "3.9.12"
  }
 },
 "nbformat": 4,
 "nbformat_minor": 5
}
